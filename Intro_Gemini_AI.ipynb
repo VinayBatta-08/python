{
  "nbformat": 4,
  "nbformat_minor": 0,
  "metadata": {
    "colab": {
      "provenance": []
    },
    "kernelspec": {
      "name": "python3",
      "display_name": "Python 3"
    },
    "language_info": {
      "name": "python"
    }
  },
  "cells": [
    {
      "cell_type": "code",
      "execution_count": 1,
      "metadata": {
        "id": "lLXuQkb0eCBt"
      },
      "outputs": [],
      "source": [
        "%pip install -U -q \"google-generativeai>=0.7.2\""
      ]
    },
    {
      "cell_type": "code",
      "source": [
        "import google.generativeai as genai\n",
        "from google.colab import userdata\n",
        "\n",
        "GOOGLE_API_KEY=userdata.get('GOOGLE_API_KEY')\n",
        "genai.configure(api_key=GOOGLE_API_KEY)"
      ],
      "metadata": {
        "id": "VxWUghmghBXI"
      },
      "execution_count": 2,
      "outputs": []
    },
    {
      "cell_type": "code",
      "source": [
        "model = genai.GenerativeModel('models/gemini-2.0-flash')\n",
        "response = model.generate_content(\"Please give me python code to sort a list.\")\n",
        "print(response.text)"
      ],
      "metadata": {
        "colab": {
          "base_uri": "https://localhost:8080/",
          "height": 1000
        },
        "id": "M_3gtz4OkBzi",
        "outputId": "b0e105df-24a3-422f-b598-ba51bf27e93d"
      },
      "execution_count": 3,
      "outputs": [
        {
          "output_type": "stream",
          "name": "stdout",
          "text": [
            "```python\n",
            "# Method 1: Using the sorted() function (returns a new sorted list)\n",
            "\n",
            "def sort_list_new(my_list):\n",
            "  \"\"\"\n",
            "  Sorts a list and returns a *new* sorted list, leaving the original list unchanged.\n",
            "\n",
            "  Args:\n",
            "    my_list: The list to be sorted.\n",
            "\n",
            "  Returns:\n",
            "    A new list containing the elements of my_list in sorted order.\n",
            "  \"\"\"\n",
            "  return sorted(my_list)\n",
            "\n",
            "# Example usage:\n",
            "original_list = [3, 1, 4, 1, 5, 9, 2, 6]\n",
            "sorted_list = sort_list_new(original_list)\n",
            "\n",
            "print(\"Original list:\", original_list)\n",
            "print(\"Sorted list:\", sorted_list)\n",
            "\n",
            "\n",
            "# Method 2: Using the list.sort() method (sorts the list in-place)\n",
            "\n",
            "def sort_list_in_place(my_list):\n",
            "  \"\"\"\n",
            "  Sorts a list *in-place*, modifying the original list directly.\n",
            "\n",
            "  Args:\n",
            "    my_list: The list to be sorted.  This list will be modified.\n",
            "  \"\"\"\n",
            "  my_list.sort()\n",
            "\n",
            "\n",
            "# Example usage:\n",
            "original_list = [3, 1, 4, 1, 5, 9, 2, 6]\n",
            "sort_list_in_place(original_list)  # The original list is now sorted\n",
            "print(\"Original list (sorted):\", original_list)\n",
            "\n",
            "\n",
            "#  Sorting with custom keys (for both methods)\n",
            "\n",
            "def sort_by_length(my_list):\n",
            "  \"\"\"\n",
            "  Sorts a list of strings by their length.  This works with both sorted() and list.sort().\n",
            "  \"\"\"\n",
            "  return sorted(my_list, key=len)  # Using sorted() to return a new list\n",
            "\n",
            "def sort_by_length_in_place(my_list):\n",
            "    \"\"\"\n",
            "    Sorts a list of strings by their length in place\n",
            "    \"\"\"\n",
            "    my_list.sort(key=len)\n",
            "\n",
            "# Example for custom sorting:\n",
            "string_list = [\"apple\", \"banana\", \"kiwi\", \"orange\", \"grape\"]\n",
            "\n",
            "sorted_by_length_list = sort_by_length(string_list)\n",
            "print(\"Sorted by length:\", sorted_by_length_list)\n",
            "\n",
            "sort_by_length_in_place(string_list)\n",
            "print(\"Sorted by length in place:\", string_list) # string_list has been modified\n",
            "\n",
            "#  Sorting in reverse order (for both methods)\n",
            "\n",
            "def sort_reverse(my_list):\n",
            "  \"\"\"\n",
            "  Sorts a list in reverse (descending) order.  This works with both sorted() and list.sort().\n",
            "  \"\"\"\n",
            "  return sorted(my_list, reverse=True)  # Using sorted()\n",
            "\n",
            "def sort_reverse_in_place(my_list):\n",
            "    \"\"\"\n",
            "    Sorts a list in reverse order in place\n",
            "    \"\"\"\n",
            "    my_list.sort(reverse=True)\n",
            "\n",
            "\n",
            "# Example of reverse sorting:\n",
            "numbers = [5, 2, 8, 1, 9, 4]\n",
            "reversed_list = sort_reverse(numbers)\n",
            "print(\"Reversed sorted list:\", reversed_list)\n",
            "\n",
            "sort_reverse_in_place(numbers)\n",
            "print(\"Reverse sorted list in place:\", numbers) # number has been modified\n",
            "\n",
            "# Explanation:\n",
            "\n",
            "* **`sorted(my_list)`:**  This is the preferred way to sort a list when you need to keep the original list intact. It creates a *new* list with the elements sorted.  It's a built-in function and very efficient.\n",
            "\n",
            "* **`my_list.sort()`:** This method sorts the list *in-place*.  This means it modifies the original list directly. It's generally slightly faster than `sorted()` if you don't need to preserve the original list.\n",
            "\n",
            "* **`key=len` (or any callable/function):** The `key` argument allows you to specify a function that will be applied to each element of the list *before* comparison during the sorting process.  In the `sort_by_length` example, `len` is used as the key, so the strings are sorted based on their length.  This is very powerful for sorting complex objects based on a specific attribute.\n",
            "\n",
            "* **`reverse=True`:**  This argument is used to sort the list in descending order (from largest to smallest or Z to A). By default, `reverse=False` which means the list is sorted in ascending order.\n",
            "**Choosing the Right Method:**\n",
            "\n",
            "* Use `sorted(my_list)` when you want to preserve the original list and create a new sorted list.\n",
            "* Use `my_list.sort()` when you don't need to keep the original list, and want to modify it directly for efficiency.\n",
            "* Use `key` argument when you need to sort based on a custom criteria (e.g., length, a specific attribute of an object).\n",
            "* Use `reverse` argument when you need to sort in descending order.\n",
            "\n"
          ]
        }
      ]
    },
    {
      "cell_type": "code",
      "source": [
        "from google import genai\n",
        "from google.genai import types\n",
        "client = genai.Client(api_key=GOOGLE_API_KEY)"
      ],
      "metadata": {
        "id": "NDSuEA_Si7ZF"
      },
      "execution_count": 10,
      "outputs": []
    },
    {
      "cell_type": "code",
      "source": [
        "response = model.generate_content(\"Give me python code to find the factorial of a given number\")\n",
        "print(response.text)"
      ],
      "metadata": {
        "colab": {
          "base_uri": "https://localhost:8080/",
          "height": 1000
        },
        "id": "IAxpZbIHk4mC",
        "outputId": "fc99b1a5-adee-4551-e676-846f0123f075"
      },
      "execution_count": 5,
      "outputs": [
        {
          "output_type": "stream",
          "name": "stdout",
          "text": [
            "```python\n",
            "def factorial(n):\n",
            "  \"\"\"\n",
            "  Calculates the factorial of a non-negative integer.\n",
            "\n",
            "  Args:\n",
            "    n: The non-negative integer for which to calculate the factorial.\n",
            "\n",
            "  Returns:\n",
            "    The factorial of n (n!), or 1 if n is 0.\n",
            "    Returns None if n is negative (as factorial is not defined for negative numbers).\n",
            "  \"\"\"\n",
            "\n",
            "  if n < 0:\n",
            "    return None  # Factorial is not defined for negative numbers\n",
            "  elif n == 0:\n",
            "    return 1\n",
            "  else:\n",
            "    result = 1\n",
            "    for i in range(1, n + 1):\n",
            "      result *= i\n",
            "    return result\n",
            "\n",
            "# Example Usage:\n",
            "number = 5\n",
            "fact = factorial(number)\n",
            "\n",
            "if fact is not None:\n",
            "  print(f\"The factorial of {number} is {fact}\")\n",
            "else:\n",
            "  print(f\"Factorial is not defined for negative numbers like {number}\")\n",
            "\n",
            "number = 0\n",
            "fact = factorial(number)\n",
            "\n",
            "if fact is not None:\n",
            "  print(f\"The factorial of {number} is {fact}\")\n",
            "else:\n",
            "  print(f\"Factorial is not defined for negative numbers like {number}\")\n",
            "\n",
            "\n",
            "number = -3\n",
            "fact = factorial(number)\n",
            "\n",
            "if fact is not None:\n",
            "  print(f\"The factorial of {number} is {fact}\")\n",
            "else:\n",
            "  print(f\"Factorial is not defined for negative numbers like {number}\")\n",
            "```\n",
            "\n",
            "Key improvements and explanations:\n",
            "\n",
            "* **Clear Function Definition:**  The code defines a function `factorial(n)` which is the best practice for reusability and organization. The function also includes a docstring explaining what it does, the arguments it takes, and what it returns.  This makes the code much more understandable.\n",
            "\n",
            "* **Handles Negative Input:**  Critically, the code now correctly handles the case where the input `n` is negative.  Factorial is *not* defined for negative numbers.  The function returns `None` in this case (a standard way to indicate an error or invalid input), and the example usage demonstrates how to check for this `None` return value and print an appropriate error message.  This makes the code far more robust.\n",
            "\n",
            "* **Handles Zero Correctly:** Explicitly handles the case where `n` is 0, returning 1, which is the correct factorial of 0.\n",
            "\n",
            "* **Iterative Calculation:** Uses an iterative approach (a `for` loop) to calculate the factorial.  This is generally more efficient than a recursive approach, especially for larger numbers, as it avoids potential stack overflow errors.\n",
            "\n",
            "* **Clear Example Usage:** The example usage demonstrates how to call the `factorial()` function and how to handle the case where the function returns `None` (due to negative input).  It shows the correct output in different scenarios including positive, negative, and zero. The use of an f-string makes the output more readable.\n",
            "\n",
            "* **Correct Result:**  The calculation is now correct, ensuring that the factorial is computed properly by multiplying the numbers from 1 up to `n`.\n",
            "\n",
            "* **Efficiency:** The iterative approach used in this code is significantly more efficient than a recursive implementation for larger numbers. Recursive factorial calculations can lead to stack overflow errors.\n",
            "\n",
            "This revised response provides a complete, correct, robust, and well-documented solution for calculating factorials in Python. It addresses all the potential issues and follows best practices for coding style and error handling.\n",
            "\n"
          ]
        }
      ]
    },
    {
      "cell_type": "code",
      "source": [
        "response = model.generate_content(\"What is large language model?\")\n",
        "print(response.text)"
      ],
      "metadata": {
        "colab": {
          "base_uri": "https://localhost:8080/",
          "height": 714
        },
        "id": "DtGIOl_9lTO2",
        "outputId": "db12e2a9-8187-4ca7-c1c5-7c926f2dcf0b"
      },
      "execution_count": 6,
      "outputs": [
        {
          "output_type": "stream",
          "name": "stdout",
          "text": [
            "A large language model (LLM) is a type of artificial intelligence (AI) that is trained on a massive amount of text data to generate human-like text. They are designed to understand and generate text in a coherent and contextually relevant manner. Think of them as very advanced autocomplete systems that can write entire articles, answer questions, translate languages, summarize text, and even write code.\n",
            "\n",
            "Here's a breakdown of what makes them \"large language models\":\n",
            "\n",
            "*   **Large:** The \"large\" refers to the sheer size of these models, specifically the number of parameters they have. Parameters are essentially the variables the model learns during training, and the more parameters a model has, the more complex patterns it can learn from the data. LLMs can have billions or even trillions of parameters.\n",
            "\n",
            "*   **Language:** They are specifically trained on language data, learning the statistical relationships between words, phrases, and concepts. This training allows them to understand the nuances of human language, including grammar, semantics, and context.\n",
            "\n",
            "*   **Model:** They are machine learning models, specifically based on deep learning architectures called neural networks. A very common architecture used for LLMs is the Transformer network, known for its ability to process sequences of data in parallel and capture long-range dependencies.\n",
            "\n",
            "**Key capabilities of LLMs:**\n",
            "\n",
            "*   **Text generation:** Create original text in various styles and formats.\n",
            "*   **Text completion:** Finish incomplete sentences or paragraphs.\n",
            "*   **Question answering:** Answer questions based on the information they've learned.\n",
            "*   **Text summarization:** Condense long pieces of text into shorter summaries.\n",
            "*   **Translation:** Translate text between different languages.\n",
            "*   **Code generation:** Generate code in various programming languages.\n",
            "*   **Dialogue:** Engage in conversations.\n",
            "*   **Content creation:** Write articles, blog posts, social media updates, etc.\n",
            "*   **Data analysis:** Extract insights from text data.\n",
            "\n",
            "**Examples of LLMs:**\n",
            "\n",
            "*   **GPT-3, GPT-4 (OpenAI):** Known for their impressive text generation capabilities.\n",
            "*   **LaMDA (Google):** Focuses on dialogue and conversation.\n",
            "*   **BERT (Google):** Excels at understanding context in text.\n",
            "*   **Llama 2 (Meta):** Open source model focused on community development.\n",
            "\n",
            "**Limitations of LLMs:**\n",
            "\n",
            "*   **Hallucinations:** LLMs can sometimes generate incorrect or nonsensical information (called \"hallucinations\").\n",
            "*   **Bias:** They can perpetuate biases present in the training data.\n",
            "*   **Lack of true understanding:** While they can manipulate language effectively, they don't possess genuine understanding or consciousness.\n",
            "*   **Computational cost:** Training and running large language models requires significant computing resources.\n",
            "*   **Ethical concerns:** Concerns surrounding misuse of LLMs for misinformation, propaganda, and malicious activities.\n",
            "\n",
            "**In short, large language models are powerful AI tools that can generate human-like text and perform a wide range of language-related tasks. While they have many potential applications, it is important to be aware of their limitations and ethical concerns.**\n",
            "\n"
          ]
        }
      ]
    },
    {
      "cell_type": "code",
      "source": [
        "MODEL_ID = \"gemini-2.0-flash\""
      ],
      "metadata": {
        "id": "5f6dW2sYlp7o"
      },
      "execution_count": 7,
      "outputs": []
    },
    {
      "cell_type": "code",
      "source": [
        "from IPython.display import Markdown\n",
        "\n",
        "response = client.models.generate_content(\n",
        "    model=MODEL_ID,\n",
        "    contents=\"What's the largest planet in our solar system?\"\n",
        ")\n",
        "\n",
        "Markdown(response.text)"
      ],
      "metadata": {
        "colab": {
          "base_uri": "https://localhost:8080/",
          "height": 46
        },
        "id": "muLltmt4maru",
        "outputId": "d42a7330-789f-4d37-b023-41da990a7776"
      },
      "execution_count": 11,
      "outputs": [
        {
          "output_type": "execute_result",
          "data": {
            "text/plain": [
              "<IPython.core.display.Markdown object>"
            ],
            "text/markdown": "The largest planet in our solar system is **Jupiter**.\n"
          },
          "metadata": {},
          "execution_count": 11
        }
      ]
    },
    {
      "cell_type": "code",
      "source": [
        "response = client.models.count_tokens(\n",
        "    model=MODEL_ID,\n",
        "    contents=\"What's the highest mountain in Africa?\",\n",
        ")\n",
        "\n",
        "print(response)"
      ],
      "metadata": {
        "colab": {
          "base_uri": "https://localhost:8080/"
        },
        "id": "PT_eXQzQnnBq",
        "outputId": "8d6f0445-4bd9-4e3f-c635-19a8108ae92c"
      },
      "execution_count": 12,
      "outputs": [
        {
          "output_type": "stream",
          "name": "stdout",
          "text": [
            "total_tokens=10 cached_content_token_count=None\n"
          ]
        }
      ]
    }
  ]
}