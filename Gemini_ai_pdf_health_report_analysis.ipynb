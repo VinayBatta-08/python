{
  "nbformat": 4,
  "nbformat_minor": 0,
  "metadata": {
    "colab": {
      "provenance": []
    },
    "kernelspec": {
      "name": "python3",
      "display_name": "Python 3"
    },
    "language_info": {
      "name": "python"
    }
  },
  "cells": [
    {
      "cell_type": "code",
      "execution_count": 8,
      "metadata": {
        "id": "Tf_pa1khAJ3A"
      },
      "outputs": [],
      "source": [
        "# Configure Gemini API\n",
        "import google.generativeai as genai\n",
        "from google.colab import userdata\n",
        "GOOGLE_API_KEY=userdata.get('GOOGLE_API_KEY')\n",
        "genai.configure(api_key=GOOGLE_API_KEY)"
      ]
    },
    {
      "cell_type": "code",
      "source": [
        "pip install PyPDF2"
      ],
      "metadata": {
        "colab": {
          "base_uri": "https://localhost:8080/"
        },
        "id": "rwgWkNxSAp5N",
        "outputId": "358a8fec-7527-4391-eeb1-d4b12b49d2d2"
      },
      "execution_count": 9,
      "outputs": [
        {
          "output_type": "stream",
          "name": "stdout",
          "text": [
            "Requirement already satisfied: PyPDF2 in /usr/local/lib/python3.11/dist-packages (3.0.1)\n"
          ]
        }
      ]
    },
    {
      "cell_type": "code",
      "source": [
        "import PyPDF2\n",
        "def extract_text_from_pdf(pdf_path):\n",
        "  \"\"\"Extracts text from a given health report PDF using PyPDF2.\"\"\"\n",
        "  text = \"\"\n",
        "  with open(pdf_path, \"rb\") as file:\n",
        "    reader = PyPDF2.PdfReader(file)\n",
        "    for page in reader.pages:\n",
        "      text += page.extract_text() + \"\\n\"\n",
        "      return text"
      ],
      "metadata": {
        "id": "O_Oiv3zYA5Ev"
      },
      "execution_count": 10,
      "outputs": []
    },
    {
      "cell_type": "code",
      "source": [
        "def extract_health_insights(text):\n",
        "  \"\"\"Asks Gemini AI to extract key medical insights from the report.\"\"\"\n",
        "  model = genai.GenerativeModel(\"gemini-1.5-flash\")\n",
        "  prompt = f\"Extract key insights from the following health report:\\n\\n{text}\"\n",
        "  response = model.generate_content(prompt)\n",
        "  return response.text\n",
        "\n",
        "  # Example Usage\n",
        "pdf_file = \"/health_report.pdf\"\n",
        "extracted_text = extract_text_from_pdf(pdf_file)\n",
        "insights = extract_health_insights(extracted_text)\n",
        "print(\"Key Insights:\\n\", insights)"
      ],
      "metadata": {
        "colab": {
          "base_uri": "https://localhost:8080/",
          "height": 228
        },
        "id": "x2NNC_DuB1zo",
        "outputId": "a9a9ec60-2ff3-4886-9117-ab84ff7a58c8"
      },
      "execution_count": 15,
      "outputs": [
        {
          "output_type": "stream",
          "name": "stdout",
          "text": [
            "Key Insights:\n",
            " The key insight from the Widal test report for Mr. Kishan Goud (MR2100003157) is evidence of a past or present *Salmonella* Typhi infection.\n",
            "\n",
            "Specifically:\n",
            "\n",
            "* **Positive for *Salmonella* Typhi:**  The titer for *S. Typhi* \"O\" (1:160) and \"H\" (1:80) are significantly higher than the reference range (1:20).  This suggests exposure to *Salmonella* Typhi.  The higher \"O\" titer is particularly indicative.\n",
            "\n",
            "* **Negative for *Salmonella* Paratyphi:** The titers for both *S. Paratyphi* \"A\" and \"B\" are within the reference range (1:20), indicating no evidence of infection with these *Salmonella* serotypes.\n",
            "\n",
            "**Important Note:**  While the report suggests past or present infection with *Salmonella* Typhi, it's crucial to remember that a Widal test alone isn't definitive.  Further investigations and clinical evaluation are necessary for a proper diagnosis and treatment plan.  The age of the patient and clinical presentation are important factors to consider in interpreting these results.  A high titer doesn't necessarily equate to an active infection, it could indicate past exposure.\n",
            "\n"
          ]
        }
      ]
    },
    {
      "cell_type": "markdown",
      "source": [
        "Summarize Health **Reports**"
      ],
      "metadata": {
        "id": "MOIolPVtFo9P"
      }
    },
    {
      "cell_type": "code",
      "source": [
        "def summarize_health_report(text):\n",
        "  \"\"\"Summarize the health report using Gemini AI.\"\"\"\n",
        "  model = genai.GenerativeModel(\"gemini-1.5-flash\")\n",
        "  prompt = f\"Summarize the following health report in a concise manner:\\n\\n{text}\"\n",
        "  response = model.generate_content(prompt)\n",
        "  return response.text\n",
        "summary = summarize_health_report(extracted_text)\n",
        "print(\"Summary:\\n\", summary)"
      ],
      "metadata": {
        "colab": {
          "base_uri": "https://localhost:8080/",
          "height": 89
        },
        "id": "IMjdC1zqFl1O",
        "outputId": "76f6ed7c-73d6-4d05-9bb1-0d5803e627ef"
      },
      "execution_count": 16,
      "outputs": [
        {
          "output_type": "stream",
          "name": "stdout",
          "text": [
            "Summary:\n",
            " Mr. Kishan Goud's Widal test (MR2100003157) showed elevated titers for *Salmonella Typhi* \"O\" (1:160) and \"H\" (1:80), suggesting a possible *Salmonella Typhi* infection.  *Salmonella Paratyphi* AH and BH titers were within the normal range.\n",
            "\n"
          ]
        }
      ]
    },
    {
      "cell_type": "markdown",
      "source": [
        "Detect Abnormal Lab **Results**"
      ],
      "metadata": {
        "id": "Mti5ohyoGhp7"
      }
    },
    {
      "cell_type": "code",
      "source": [
        "def detect_abnormalities(text):\n",
        "  \"\"\"Analyzes lab test results and flags abnormal values.\"\"\"\n",
        "  model = genai.GenerativeModel(\"gemini-1.5-flash\")\n",
        "  prompt = f\"Analyze the lab test results in the following health report and highlights for abnormal values:\\n\\n{text}\"\n",
        "  response = model.generate_content(prompt)\n",
        "  return response.text\n",
        "abnormalities = detect_abnormalities(extracted_text)\n",
        "print(\"Abnormal Values:\\n\", abnormalities)"
      ],
      "metadata": {
        "colab": {
          "base_uri": "https://localhost:8080/",
          "height": 228
        },
        "id": "ZylOLOrmGq6i",
        "outputId": "218ba8fa-b0f6-43ee-a00d-2a2086a93035"
      },
      "execution_count": 19,
      "outputs": [
        {
          "output_type": "stream",
          "name": "stdout",
          "text": [
            "Abnormal Values:\n",
            " The lab results show abnormal values for:\n",
            "\n",
            "* **S. Typhi \"O\": 1:160**  This is significantly higher than the reference range of 1:20, suggesting a possible *Salmonella Typhi* infection.  The \"O\" antigen is the somatic antigen of the bacteria.\n",
            "\n",
            "* **S. Typhi \"H\": 1:80** This is also higher than the reference range of 1:20, further supporting the possibility of *Salmonella Typhi* infection. The \"H\" antigen is the flagellar antigen.\n",
            "\n",
            "The titers for *S. Paratyphi* \"AH\" and \"BH\" are within the normal range, making infection with these less likely.\n",
            "\n",
            "**Important Note:** While these elevated titers suggest a *Salmonella Typhi* infection, a Widal test alone is not definitive.  Other factors and clinical presentation need to be considered by the physician for a proper diagnosis.  False positives and negatives can occur with the Widal test.  Further investigation, such as blood culture, is usually necessary to confirm the diagnosis.\n",
            "\n"
          ]
        }
      ]
    },
    {
      "cell_type": "markdown",
      "source": [
        "Explain Medical **Terms**"
      ],
      "metadata": {
        "id": "O8medTNDIGdP"
      }
    },
    {
      "cell_type": "code",
      "source": [
        "def explain_medical_terms(text):\n",
        "  \"\"\"Asks Gemini AI to simplify medical terms for patient understanding.\"\"\"\n",
        "  model = genai.GenerativeModel(\"gemini-1.5-flash\")\n",
        "  prompt = f\"Explain the medical terms in the following health report in simple language:\\n\\n{text}\"\n",
        "  response = model.generate_content(prompt)\n",
        "  return response.text\n",
        "explanation = explain_medical_terms(extracted_text)\n",
        "print(\"Explanation:\\n\", explanation)"
      ],
      "metadata": {
        "colab": {
          "base_uri": "https://localhost:8080/",
          "height": 332
        },
        "id": "VCd_PH6cIF9u",
        "outputId": "da20ef5f-ae8d-4d4f-94b3-55187e59537d"
      },
      "execution_count": 18,
      "outputs": [
        {
          "output_type": "stream",
          "name": "stdout",
          "text": [
            "Explanation:\n",
            " This report shows the results of a Widal test, a blood test used to check for antibodies against typhoid fever and paratyphoid fever.  These are bacterial infections.\n",
            "\n",
            "Let's break down the results:\n",
            "\n",
            "* **S. Typhi \"O\" 1:160:** This indicates a relatively high level of antibodies against the \"O\" antigen of *Salmonella Typhi*, the bacteria that causes typhoid fever.  A higher number (1:160) compared to the reference range (1:20) suggests a possible past or current infection.  The \"O\" antigen is a part of the bacteria's cell wall.\n",
            "\n",
            "* **S. Typhi \"H\" 1:80:** This shows a moderate level of antibodies against the \"H\" antigen of *Salmonella Typhi*. The \"H\" antigen is a flagellar protein (part of the bacteria's tail-like structure).  Again, higher than the reference range (1:20).\n",
            "\n",
            "* **S. Paratyphi \"AH\" 1:20:** This shows a normal level of antibodies against the \"AH\" antigen of *Salmonella Paratyphi A*, a bacteria that causes paratyphoid fever. The result is within the reference range.\n",
            "\n",
            "* **S. Paratyphi \"BH\" 1:20:** This shows a normal level of antibodies against the \"BH\" antigen of *Salmonella Paratyphi B*, another bacteria causing paratyphoid fever.  The result is within the reference range.\n",
            "\n",
            "**In simple terms:** The test suggests a likely past or present typhoid fever infection (indicated by the high antibody levels against S. Typhi \"O\" and \"H\").  The paratyphoid results are normal.\n",
            "\n",
            "**Important Note:** This is just an interpretation of the lab results.  A doctor needs to review this report in conjunction with the patient's symptoms and medical history to make a proper diagnosis and determine the appropriate treatment.  A positive Widal test doesn't definitively confirm active typhoid; further testing might be needed.\n",
            "\n"
          ]
        }
      ]
    },
    {
      "cell_type": "markdown",
      "source": [
        "Ask Questions About the Report"
      ],
      "metadata": {
        "id": "mlOiNqgFJ3Pg"
      }
    },
    {
      "cell_type": "code",
      "source": [
        "def ask_gemini_about_report(text, question):\n",
        "  \"\"\"Allows users to ask questions about their health report.\"\"\"\n",
        "  model = genai.GenerativeModel(\"gemini-1.5-flash\")\n",
        "  prompt = f\"The following is a health report:\\n\\n{text}\\n\\nAnswer the following question based on the report:\\n{question}\"\n",
        "  response = model.generate_content(prompt)\n",
        "  return response.text\n",
        "question = \"What is the patient's diagnosis?\"\n",
        "answer = ask_gemini_about_report(extracted_text, question)\n",
        "print(\"Answer:\\n\", answer)"
      ],
      "metadata": {
        "colab": {
          "base_uri": "https://localhost:8080/",
          "height": 89
        },
        "id": "nZdyEMppJ8HD",
        "outputId": "ae609824-0f96-4826-94db-ea8a3500b2a4"
      },
      "execution_count": 22,
      "outputs": [
        {
          "output_type": "stream",
          "name": "stdout",
          "text": [
            "Answer:\n",
            " Based solely on the provided Widal test results, a definitive diagnosis cannot be made.  The elevated titers for *Salmonella Typhi* \"O\" (1:160) and \"H\" (1:80) suggest a possible past or present infection with *Salmonella Typhi* (typhoid fever).  However,  the Widal test is not definitive, and further investigation is needed to confirm a diagnosis. The test results for *Salmonella Paratyphi* AH and BH are within the normal range.  A positive Widal test requires consideration of other factors and clinical presentation.\n",
            "\n"
          ]
        }
      ]
    }
  ]
}