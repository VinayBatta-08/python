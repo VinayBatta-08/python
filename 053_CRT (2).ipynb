{
 "cells": [
  {
   "cell_type": "code",
   "execution_count": 1,
   "id": "2143e046-0a9b-47fc-981a-d4ac04c826d3",
   "metadata": {},
   "outputs": [
    {
     "name": "stdout",
     "output_type": "stream",
     "text": [
      "Defaulting to user installation because normal site-packages is not writeable\n",
      "Requirement already satisfied: emot in c:\\users\\b.vinay\\appdata\\roaming\\python\\python312\\site-packages (3.1)\n"
     ]
    }
   ],
   "source": [
    "#Installing emot Library\n",
    "!pip install emot"
   ]
  },
  {
   "cell_type": "code",
   "execution_count": 7,
   "id": "7dd53201-a802-42cc-a1a2-5c75cbcd98e1",
   "metadata": {},
   "outputs": [],
   "source": [
    "text1 = \"What are you saying 😂. I am the boss😎 , and why are you so😓 \""
   ]
  },
  {
   "cell_type": "code",
   "execution_count": 1,
   "id": "d077fc7d-a5ea-487e-9bc4-8b6be9597c4d",
   "metadata": {},
   "outputs": [],
   "source": [
    "import re\n",
    "from emot.emo_unicode import UNICODE_EMOJI\n",
    "from emot.emo_unicode import EMOTICONS_EMO"
   ]
  },
  {
   "cell_type": "code",
   "execution_count": 9,
   "id": "63e534d3-52ca-4711-b066-789ccffd825a",
   "metadata": {},
   "outputs": [],
   "source": [
    "def converting_emojis(text):\n",
    "    for emot in UNICODE_EMOJI:\n",
    "        text = text.replace(emot, \"_\".join(UNICODE_EMOJI[emot].replace(\",\",\"\")\\\n",
    "                                           .replace(\":\",\"\").split()))\n",
    "        return text\n",
    "        converting_emojis(text1)"
   ]
  },
  {
   "cell_type": "code",
   "execution_count": 10,
   "id": "885b1cde-5e4d-4cf8-818b-c700bfee95f0",
   "metadata": {},
   "outputs": [],
   "source": [
    "def emoji_removal(string):\n",
    "    emoji_unicodes = re.compile(\"[\"\n",
    "                                u\"\\U0001F600-\\U0001F64F\"  # emoticons\n",
    "                                u\"\\U0001F300-\\U0001F5FF\"  # symbols \n",
    "                                u\"\\U0001F680-\\U0001F6FF\"  # transport \n",
    "                                u\"\\U0001F1E0-\\U0001F1FF\"  # flags (iOS)\n",
    "                                u\"\\U00002500-\\U00002BEF\"  \n",
    "                                u\"\\U00002702-\\U000027B0\"\n",
    "                                u\"\\U000024C2-\\U0001F251\"\n",
    "                                u\"\\U0001f926-\\U0001f937\"\n",
    "                                u\"\\U00010000-\\U0010ffff\"\n",
    "                                u\"\\u2640-\\u2642\"\n",
    "                                u\"\\u2600-\\u2B55\"\n",
    "                                u\"\\u200d\"\n",
    "                                u\"\\u23cf\"\n",
    "                                u\"\\u23e9\"\n",
    "                                u\"\\u231a\"\n",
    "                                u\"\\ufe0f\"  \n",
    "                                u\"\\u3030\"\n",
    "                                \"]+\", \n",
    "                                flags=re.UNICODE)\n",
    "    return emoji_unicodes.sub(r'', string)\n",
    "    emoji_removal(text1)"
   ]
  },
  {
   "cell_type": "code",
   "execution_count": null,
   "id": "03cdaf4c-4137-4a7c-855c-880f578605c5",
   "metadata": {},
   "outputs": [],
   "source": []
  }
 ],
 "metadata": {
  "kernelspec": {
   "display_name": "Python 3 (ipykernel)",
   "language": "python",
   "name": "python3"
  },
  "language_info": {
   "codemirror_mode": {
    "name": "ipython",
    "version": 3
   },
   "file_extension": ".py",
   "mimetype": "text/x-python",
   "name": "python",
   "nbconvert_exporter": "python",
   "pygments_lexer": "ipython3",
   "version": "3.12.4"
  }
 },
 "nbformat": 4,
 "nbformat_minor": 5
}
